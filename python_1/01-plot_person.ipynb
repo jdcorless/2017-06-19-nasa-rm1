{
 "cells": [
  {
   "cell_type": "code",
   "execution_count": 2,
   "metadata": {
    "collapsed": false
   },
   "outputs": [
    {
     "name": "stdout",
     "output_type": "stream",
     "text": [
      "hello\n"
     ]
    }
   ],
   "source": [
    "print('hello')"
   ]
  },
  {
   "cell_type": "code",
   "execution_count": 7,
   "metadata": {
    "collapsed": false
   },
   "outputs": [
    {
     "data": {
      "text/plain": [
       "'/home/dchen/swc-python'"
      ]
     },
     "execution_count": 7,
     "metadata": {},
     "output_type": "execute_result"
    }
   ],
   "source": [
    "pwd"
   ]
  },
  {
   "cell_type": "code",
   "execution_count": 8,
   "metadata": {
    "collapsed": false
   },
   "outputs": [
    {
     "name": "stdout",
     "output_type": "stream",
     "text": [
      "argv_list.py         line_count.py                        readings_05.py\r\n",
      "arith.py             my_ls.py                             readings_06.py\r\n",
      "check.py             python-novice-inflammation-code.zip  readings_07.py\r\n",
      "count_stdin.py       python-novice-inflammation-data.zip  readings_08.py\r\n",
      "\u001b[0m\u001b[01;34mdata\u001b[0m/                readings_01.py                       readings_09.py\r\n",
      "errors_01.py         readings_02.py                       rectangle.py\r\n",
      "errors_02.py         readings_03.py                       sys_version.py\r\n",
      "gen_inflammation.py  readings_04.py                       Untitled.ipynb\r\n"
     ]
    }
   ],
   "source": [
    "ls"
   ]
  },
  {
   "cell_type": "code",
   "execution_count": 9,
   "metadata": {
    "collapsed": true
   },
   "outputs": [],
   "source": [
    "import numpy"
   ]
  },
  {
   "cell_type": "code",
   "execution_count": 10,
   "metadata": {
    "collapsed": false
   },
   "outputs": [
    {
     "name": "stdout",
     "output_type": "stream",
     "text": [
      "argv_list.py         line_count.py                        readings_05.py\r\n",
      "arith.py             my_ls.py                             readings_06.py\r\n",
      "check.py             python-novice-inflammation-code.zip  readings_07.py\r\n",
      "count_stdin.py       python-novice-inflammation-data.zip  readings_08.py\r\n",
      "\u001b[0m\u001b[01;34mdata\u001b[0m/                readings_01.py                       readings_09.py\r\n",
      "errors_01.py         readings_02.py                       rectangle.py\r\n",
      "errors_02.py         readings_03.py                       sys_version.py\r\n",
      "gen_inflammation.py  readings_04.py                       Untitled.ipynb\r\n"
     ]
    }
   ],
   "source": [
    "ls"
   ]
  },
  {
   "cell_type": "code",
   "execution_count": 14,
   "metadata": {
    "collapsed": false
   },
   "outputs": [
    {
     "data": {
      "text/plain": [
       "array([[ 0.,  0.,  1., ...,  3.,  0.,  0.],\n",
       "       [ 0.,  1.,  2., ...,  1.,  0.,  1.],\n",
       "       [ 0.,  1.,  1., ...,  2.,  1.,  1.],\n",
       "       ..., \n",
       "       [ 0.,  1.,  1., ...,  1.,  1.,  1.],\n",
       "       [ 0.,  0.,  0., ...,  0.,  2.,  0.],\n",
       "       [ 0.,  0.,  1., ...,  1.,  1.,  0.]])"
      ]
     },
     "execution_count": 14,
     "metadata": {},
     "output_type": "execute_result"
    }
   ],
   "source": [
    "numpy.loadtxt(fname = 'data/inflammation-01.csv', delimiter=',')"
   ]
  },
  {
   "cell_type": "code",
   "execution_count": 15,
   "metadata": {
    "collapsed": true
   },
   "outputs": [],
   "source": [
    "data = numpy.loadtxt(fname = 'data/inflammation-01.csv', delimiter=',')"
   ]
  },
  {
   "cell_type": "code",
   "execution_count": 18,
   "metadata": {
    "collapsed": false
   },
   "outputs": [
    {
     "data": {
      "text/plain": [
       "array([[ 0.,  0.,  1., ...,  3.,  0.,  0.],\n",
       "       [ 0.,  1.,  2., ...,  1.,  0.,  1.],\n",
       "       [ 0.,  1.,  1., ...,  2.,  1.,  1.],\n",
       "       ..., \n",
       "       [ 0.,  1.,  1., ...,  1.,  1.,  1.],\n",
       "       [ 0.,  0.,  0., ...,  0.,  2.,  0.],\n",
       "       [ 0.,  0.,  1., ...,  1.,  1.,  0.]])"
      ]
     },
     "execution_count": 18,
     "metadata": {},
     "output_type": "execute_result"
    }
   ],
   "source": [
    "data"
   ]
  },
  {
   "cell_type": "code",
   "execution_count": 19,
   "metadata": {
    "collapsed": false
   },
   "outputs": [
    {
     "data": {
      "text/plain": [
       "numpy.ndarray"
      ]
     },
     "execution_count": 19,
     "metadata": {},
     "output_type": "execute_result"
    }
   ],
   "source": [
    "type(data)"
   ]
  },
  {
   "cell_type": "code",
   "execution_count": 23,
   "metadata": {
    "collapsed": false
   },
   "outputs": [
    {
     "data": {
      "text/plain": [
       "dtype('float64')"
      ]
     },
     "execution_count": 23,
     "metadata": {},
     "output_type": "execute_result"
    }
   ],
   "source": [
    "data.dtype"
   ]
  },
  {
   "cell_type": "code",
   "execution_count": 22,
   "metadata": {
    "collapsed": false
   },
   "outputs": [
    {
     "data": {
      "text/plain": [
       "(60, 40)"
      ]
     },
     "execution_count": 22,
     "metadata": {},
     "output_type": "execute_result"
    }
   ],
   "source": [
    "data.shape"
   ]
  },
  {
   "cell_type": "code",
   "execution_count": 24,
   "metadata": {
    "collapsed": false
   },
   "outputs": [
    {
     "data": {
      "text/plain": [
       "0.0"
      ]
     },
     "execution_count": 24,
     "metadata": {},
     "output_type": "execute_result"
    }
   ],
   "source": [
    "data[0, 0]"
   ]
  },
  {
   "cell_type": "code",
   "execution_count": 25,
   "metadata": {
    "collapsed": false
   },
   "outputs": [
    {
     "data": {
      "text/plain": [
       "13.0"
      ]
     },
     "execution_count": 25,
     "metadata": {},
     "output_type": "execute_result"
    }
   ],
   "source": [
    "data[30, 20]"
   ]
  },
  {
   "cell_type": "code",
   "execution_count": 26,
   "metadata": {
    "collapsed": false
   },
   "outputs": [
    {
     "name": "stdout",
     "output_type": "stream",
     "text": [
      "the wrong value for the center of the data is 13.0\n"
     ]
    }
   ],
   "source": [
    "print('the wrong value for the center of the data is', data[30, 20])"
   ]
  },
  {
   "cell_type": "code",
   "execution_count": 30,
   "metadata": {
    "collapsed": false
   },
   "outputs": [
    {
     "data": {
      "text/plain": [
       "array([[ 0.,  0.,  1.,  3.,  1.,  2.,  4.,  7.,  8.,  3.],\n",
       "       [ 0.,  1.,  2.,  1.,  2.,  1.,  3.,  2.,  2.,  6.],\n",
       "       [ 0.,  1.,  1.,  3.,  3.,  2.,  6.,  2.,  5.,  9.],\n",
       "       [ 0.,  0.,  2.,  0.,  4.,  2.,  2.,  1.,  6.,  7.]])"
      ]
     },
     "execution_count": 30,
     "metadata": {},
     "output_type": "execute_result"
    }
   ],
   "source": [
    "data[0:4, 0:10]"
   ]
  },
  {
   "cell_type": "code",
   "execution_count": 32,
   "metadata": {
    "collapsed": false
   },
   "outputs": [
    {
     "data": {
      "text/plain": [
       "array([[ 0.,  1.,  1.,  3.,  3.,  1.,  3.,  5.,  2.,  4.],\n",
       "       [ 0.,  0.,  1.,  2.,  2.,  4.,  2.,  1.,  6.,  4.],\n",
       "       [ 0.,  0.,  2.,  2.,  4.,  2.,  2.,  5.,  5.,  8.],\n",
       "       [ 0.,  0.,  1.,  2.,  3.,  1.,  2.,  3.,  5.,  3.],\n",
       "       [ 0.,  0.,  0.,  3.,  1.,  5.,  6.,  5.,  5.,  8.],\n",
       "       [ 0.,  1.,  1.,  2.,  1.,  3.,  5.,  3.,  5.,  8.],\n",
       "       [ 0.,  1.,  0.,  0.,  4.,  3.,  3.,  5.,  5.,  4.],\n",
       "       [ 0.,  1.,  0.,  0.,  3.,  4.,  2.,  7.,  8.,  5.],\n",
       "       [ 0.,  0.,  2.,  1.,  4.,  3.,  6.,  4.,  6.,  7.],\n",
       "       [ 0.,  0.,  0.,  0.,  1.,  3.,  1.,  6.,  6.,  5.],\n",
       "       [ 0.,  1.,  2.,  1.,  1.,  1.,  4.,  1.,  5.,  2.],\n",
       "       [ 0.,  1.,  1.,  0.,  1.,  2.,  4.,  3.,  6.,  4.],\n",
       "       [ 0.,  0.,  0.,  0.,  2.,  3.,  6.,  5.,  7.,  4.],\n",
       "       [ 0.,  0.,  0.,  1.,  2.,  1.,  4.,  3.,  6.,  7.],\n",
       "       [ 0.,  0.,  2.,  1.,  2.,  5.,  4.,  2.,  7.,  8.],\n",
       "       [ 0.,  1.,  2.,  0.,  1.,  4.,  3.,  2.,  2.,  7.],\n",
       "       [ 0.,  1.,  1.,  3.,  1.,  4.,  4.,  1.,  8.,  2.],\n",
       "       [ 0.,  0.,  2.,  3.,  2.,  3.,  2.,  6.,  3.,  8.],\n",
       "       [ 0.,  0.,  0.,  3.,  4.,  5.,  1.,  7.,  7.,  8.],\n",
       "       [ 0.,  1.,  1.,  1.,  1.,  3.,  3.,  2.,  6.,  3.],\n",
       "       [ 0.,  1.,  1.,  1.,  2.,  3.,  5.,  3.,  6.,  3.],\n",
       "       [ 0.,  0.,  2.,  1.,  3.,  3.,  2.,  7.,  4.,  4.],\n",
       "       [ 0.,  0.,  1.,  2.,  4.,  2.,  2.,  3.,  5.,  7.],\n",
       "       [ 0.,  0.,  1.,  1.,  1.,  5.,  1.,  5.,  2.,  2.],\n",
       "       [ 0.,  0.,  2.,  2.,  3.,  4.,  6.,  3.,  7.,  6.],\n",
       "       [ 0.,  0.,  0.,  1.,  4.,  4.,  6.,  3.,  8.,  6.],\n",
       "       [ 0.,  1.,  1.,  0.,  3.,  2.,  4.,  6.,  8.,  6.],\n",
       "       [ 0.,  0.,  2.,  3.,  3.,  4.,  5.,  3.,  6.,  7.],\n",
       "       [ 0.,  1.,  2.,  2.,  2.,  3.,  6.,  6.,  6.,  7.],\n",
       "       [ 0.,  0.,  2.,  1.,  3.,  5.,  6.,  7.,  5.,  8.],\n",
       "       [ 0.,  0.,  1.,  2.,  4.,  1.,  5.,  5.,  2.,  3.],\n",
       "       [ 0.,  0.,  0.,  3.,  1.,  3.,  6.,  4.,  3.,  4.],\n",
       "       [ 0.,  1.,  2.,  2.,  2.,  5.,  5.,  1.,  4.,  6.],\n",
       "       [ 0.,  1.,  1.,  2.,  3.,  1.,  5.,  1.,  2.,  2.],\n",
       "       [ 0.,  1.,  0.,  3.,  2.,  4.,  1.,  1.,  5.,  9.],\n",
       "       [ 0.,  1.,  1.,  3.,  1.,  1.,  5.,  5.,  3.,  7.],\n",
       "       [ 0.,  0.,  0.,  2.,  2.,  1.,  3.,  4.,  5.,  5.],\n",
       "       [ 0.,  0.,  1.,  3.,  3.,  1.,  2.,  1.,  8.,  9.],\n",
       "       [ 0.,  1.,  1.,  3.,  4.,  5.,  2.,  1.,  3.,  7.],\n",
       "       [ 0.,  0.,  1.,  3.,  1.,  4.,  3.,  6.,  7.,  8.],\n",
       "       [ 0.,  1.,  1.,  3.,  3.,  4.,  4.,  6.,  3.,  4.],\n",
       "       [ 0.,  1.,  2.,  2.,  4.,  3.,  1.,  4.,  8.,  9.],\n",
       "       [ 0.,  0.,  2.,  3.,  4.,  5.,  4.,  6.,  2.,  9.],\n",
       "       [ 0.,  1.,  1.,  3.,  1.,  4.,  6.,  2.,  8.,  2.],\n",
       "       [ 0.,  0.,  1.,  3.,  2.,  5.,  1.,  2.,  7.,  6.],\n",
       "       [ 0.,  0.,  1.,  2.,  3.,  4.,  5.,  7.,  5.,  4.],\n",
       "       [ 0.,  1.,  2.,  1.,  1.,  3.,  5.,  3.,  6.,  3.],\n",
       "       [ 0.,  1.,  2.,  2.,  3.,  5.,  2.,  4.,  5.,  6.],\n",
       "       [ 0.,  0.,  0.,  2.,  4.,  4.,  5.,  3.,  3.,  3.],\n",
       "       [ 0.,  0.,  2.,  1.,  1.,  4.,  4.,  7.,  2.,  9.],\n",
       "       [ 0.,  1.,  2.,  1.,  1.,  4.,  5.,  4.,  4.,  5.],\n",
       "       [ 0.,  0.,  1.,  3.,  2.,  3.,  6.,  4.,  5.,  7.],\n",
       "       [ 0.,  1.,  1.,  2.,  2.,  5.,  1.,  7.,  4.,  2.],\n",
       "       [ 0.,  1.,  1.,  1.,  4.,  1.,  6.,  4.,  6.,  3.],\n",
       "       [ 0.,  0.,  0.,  1.,  4.,  5.,  6.,  3.,  8.,  7.],\n",
       "       [ 0.,  0.,  1.,  0.,  3.,  2.,  5.,  4.,  8.,  2.]])"
      ]
     },
     "execution_count": 32,
     "metadata": {},
     "output_type": "execute_result"
    }
   ],
   "source": [
    "data[4:, :10]"
   ]
  },
  {
   "cell_type": "code",
   "execution_count": 33,
   "metadata": {
    "collapsed": true
   },
   "outputs": [],
   "source": [
    "small = data[:3, 36:]"
   ]
  },
  {
   "cell_type": "code",
   "execution_count": 34,
   "metadata": {
    "collapsed": false
   },
   "outputs": [
    {
     "data": {
      "text/plain": [
       "array([[ 2.,  3.,  0.,  0.],\n",
       "       [ 1.,  1.,  0.,  1.],\n",
       "       [ 2.,  2.,  1.,  1.]])"
      ]
     },
     "execution_count": 34,
     "metadata": {},
     "output_type": "execute_result"
    }
   ],
   "source": [
    "small"
   ]
  },
  {
   "cell_type": "code",
   "execution_count": 35,
   "metadata": {
    "collapsed": false
   },
   "outputs": [
    {
     "data": {
      "text/plain": [
       "array([[ 4.,  6.,  0.,  0.],\n",
       "       [ 2.,  2.,  0.,  2.],\n",
       "       [ 4.,  4.,  2.,  2.]])"
      ]
     },
     "execution_count": 35,
     "metadata": {},
     "output_type": "execute_result"
    }
   ],
   "source": [
    "small * 2"
   ]
  },
  {
   "cell_type": "code",
   "execution_count": 36,
   "metadata": {
    "collapsed": true
   },
   "outputs": [],
   "source": [
    "import time"
   ]
  },
  {
   "cell_type": "code",
   "execution_count": 40,
   "metadata": {
    "collapsed": false
   },
   "outputs": [
    {
     "data": {
      "text/plain": [
       "'Mon Jun 19 14:02:26 2017'"
      ]
     },
     "execution_count": 40,
     "metadata": {},
     "output_type": "execute_result"
    }
   ],
   "source": [
    "time.ctime()"
   ]
  },
  {
   "cell_type": "code",
   "execution_count": 41,
   "metadata": {
    "collapsed": false
   },
   "outputs": [
    {
     "data": {
      "text/plain": [
       "20.0"
      ]
     },
     "execution_count": 41,
     "metadata": {},
     "output_type": "execute_result"
    }
   ],
   "source": [
    "numpy.max(data)"
   ]
  },
  {
   "cell_type": "code",
   "execution_count": 42,
   "metadata": {
    "collapsed": false
   },
   "outputs": [
    {
     "data": {
      "text/plain": [
       "0.0"
      ]
     },
     "execution_count": 42,
     "metadata": {},
     "output_type": "execute_result"
    }
   ],
   "source": [
    "numpy.min(data)"
   ]
  },
  {
   "cell_type": "code",
   "execution_count": 43,
   "metadata": {
    "collapsed": false
   },
   "outputs": [
    {
     "data": {
      "text/plain": [
       "4.6138331971185664"
      ]
     },
     "execution_count": 43,
     "metadata": {},
     "output_type": "execute_result"
    }
   ],
   "source": [
    "numpy.std(data)"
   ]
  },
  {
   "cell_type": "code",
   "execution_count": 44,
   "metadata": {
    "collapsed": true
   },
   "outputs": [],
   "source": [
    "numpy.max?"
   ]
  },
  {
   "cell_type": "code",
   "execution_count": 46,
   "metadata": {
    "collapsed": false
   },
   "outputs": [
    {
     "data": {
      "text/plain": [
       "array([ 3.,  1.,  2.])"
      ]
     },
     "execution_count": 46,
     "metadata": {},
     "output_type": "execute_result"
    }
   ],
   "source": [
    "# 1 for row-wise\n",
    "# 0 for column-wise\n",
    "numpy.max(small, axis=1)"
   ]
  },
  {
   "cell_type": "code",
   "execution_count": 47,
   "metadata": {
    "collapsed": false
   },
   "outputs": [
    {
     "data": {
      "text/plain": [
       "array([ 2.,  3.,  1.,  1.])"
      ]
     },
     "execution_count": 47,
     "metadata": {},
     "output_type": "execute_result"
    }
   ],
   "source": [
    "numpy.max(small, axis=0)"
   ]
  },
  {
   "cell_type": "code",
   "execution_count": 48,
   "metadata": {
    "collapsed": false
   },
   "outputs": [
    {
     "data": {
      "text/plain": [
       "array([[ 2.,  3.,  0.,  0.],\n",
       "       [ 1.,  1.,  0.,  1.],\n",
       "       [ 2.,  2.,  1.,  1.]])"
      ]
     },
     "execution_count": 48,
     "metadata": {},
     "output_type": "execute_result"
    }
   ],
   "source": [
    "small"
   ]
  },
  {
   "cell_type": "code",
   "execution_count": 53,
   "metadata": {
    "collapsed": true
   },
   "outputs": [],
   "source": [
    "import matplotlib.pyplot\n",
    "%matplotlib inline"
   ]
  },
  {
   "cell_type": "code",
   "execution_count": 54,
   "metadata": {
    "collapsed": false
   },
   "outputs": [
    {
     "data": {
      "image/png": "[encoded data removed]",
      "text/plain": [
       "<matplotlib.figure.Figure at 0x7f22ffacf710>"
      ]
     },
     "metadata": {},
     "output_type": "display_data"
    }
   ],
   "source": [
    "image = matplotlib.pyplot.imshow(data)\n",
    "matplotlib.pyplot.show()"
   ]
  },
  {
   "cell_type": "markdown",
   "metadata": {},
   "source": [
    "This heat map shows the inflmmation(?) value for each person in our data.\n",
    "a person is represented by a row (y -axis), and the day is represented by a column (x-axis)\n",
    "\n",
    "# header 1\n",
    "## header 2\n",
    "### header 3\n",
    "\n",
    "###### header 6\n",
    "\n",
    "- bullet 1\n",
    "- bullet 2\n",
    "    - bullet 2.1\n",
    "\n",
    "\n",
    "1. numnber\n",
    "1. number 2\n",
    "1. number 3"
   ]
  },
  {
   "cell_type": "code",
   "execution_count": 55,
   "metadata": {
    "collapsed": false
   },
   "outputs": [
    {
     "name": "stdout",
     "output_type": "stream",
     "text": [
      "inflammation-01.csv  inflammation-05.csv  inflammation-09.csv  small-01.csv\r\n",
      "inflammation-02.csv  inflammation-06.csv  inflammation-10.csv  small-02.csv\r\n",
      "inflammation-03.csv  inflammation-07.csv  inflammation-11.csv  small-03.csv\r\n",
      "inflammation-04.csv  inflammation-08.csv  inflammation-12.csv\r\n"
     ]
    }
   ],
   "source": [
    "ls data/"
   ]
  },
  {
   "cell_type": "code",
   "execution_count": 56,
   "metadata": {
    "collapsed": true
   },
   "outputs": [],
   "source": [
    "avg_inflammation = numpy.mean(data, axis=0)"
   ]
  },
  {
   "cell_type": "code",
   "execution_count": 57,
   "metadata": {
    "collapsed": false
   },
   "outputs": [
    {
     "data": {
      "text/plain": [
       "(40,)"
      ]
     },
     "execution_count": 57,
     "metadata": {},
     "output_type": "execute_result"
    }
   ],
   "source": [
    "avg_inflammation.shape"
   ]
  },
  {
   "cell_type": "code",
   "execution_count": 58,
   "metadata": {
    "collapsed": true
   },
   "outputs": [],
   "source": [
    "max_inflammation = numpy.max(data, axis=0)"
   ]
  },
  {
   "cell_type": "code",
   "execution_count": 59,
   "metadata": {
    "collapsed": true
   },
   "outputs": [],
   "source": [
    "min_inflammation = numpy.min(data, axis=0)"
   ]
  },
  {
   "cell_type": "code",
   "execution_count": 61,
   "metadata": {
    "collapsed": false
   },
   "outputs": [
    {
     "name": "stdout",
     "output_type": "stream",
     "text": [
      "[  0.           0.45         1.11666667   1.75         2.43333333   3.15\n",
      "   3.8          3.88333333   5.23333333   5.51666667   5.95         5.9\n",
      "   8.35         7.73333333   8.36666667   9.5          9.58333333\n",
      "  10.63333333  11.56666667  12.35        13.25        11.96666667\n",
      "  11.03333333  10.16666667  10.           8.66666667   9.15         7.25\n",
      "   7.33333333   6.58333333   6.06666667   5.95         5.11666667   3.6\n",
      "   3.3          3.56666667   2.48333333   1.5          1.13333333\n",
      "   0.56666667]\n"
     ]
    }
   ],
   "source": [
    "print(avg_inflammation)"
   ]
  },
  {
   "cell_type": "code",
   "execution_count": 62,
   "metadata": {
    "collapsed": false
   },
   "outputs": [
    {
     "name": "stdout",
     "output_type": "stream",
     "text": [
      "[  0.   1.   2.   3.   4.   5.   6.   7.   8.   9.  10.  11.  12.  13.  14.\n",
      "  15.  16.  17.  18.  19.  20.  19.  18.  17.  16.  15.  14.  13.  12.  11.\n",
      "  10.   9.   8.   7.   6.   5.   4.   3.   2.   1.]\n"
     ]
    }
   ],
   "source": [
    "print(max_inflammation)"
   ]
  },
  {
   "cell_type": "code",
   "execution_count": 63,
   "metadata": {
    "collapsed": false
   },
   "outputs": [
    {
     "name": "stdout",
     "output_type": "stream",
     "text": [
      "[ 0.  0.  0.  0.  1.  1.  1.  1.  2.  2.  2.  2.  3.  3.  3.  3.  4.  5.\n",
      "  5.  5.  5.  4.  4.  4.  4.  3.  3.  3.  3.  2.  2.  2.  2.  1.  1.  1.\n",
      "  1.  0.  0.  0.]\n"
     ]
    }
   ],
   "source": [
    "print(min_inflammation)"
   ]
  },
  {
   "cell_type": "code",
   "execution_count": 67,
   "metadata": {
    "collapsed": false
   },
   "outputs": [
    {
     "data": {
      "image/png": "[encoded data removed]",
      "text/plain": [
       "<matplotlib.figure.Figure at 0x7f22fc4a5e10>"
      ]
     },
     "metadata": {},
     "output_type": "display_data"
    }
   ],
   "source": [
    "matplotlib.pyplot.plot(avg_inflammation)\n",
    "matplotlib.pyplot.show()"
   ]
  },
  {
   "cell_type": "code",
   "execution_count": 68,
   "metadata": {
    "collapsed": false
   },
   "outputs": [
    {
     "data": {
      "image/png": "[encoded data removed]",
      "text/plain": [
       "<matplotlib.figure.Figure at 0x7f22fc3d6e80>"
      ]
     },
     "metadata": {},
     "output_type": "display_data"
    }
   ],
   "source": [
    "matplotlib.pyplot.plot(max_inflammation)\n",
    "matplotlib.pyplot.show()"
   ]
  },
  {
   "cell_type": "code",
   "execution_count": 70,
   "metadata": {
    "collapsed": false
   },
   "outputs": [
    {
     "data": {
      "image/png": "[encoded data removed]",
      "text/plain": [
       "<matplotlib.figure.Figure at 0x7f22fc304a58>"
      ]
     },
     "metadata": {},
     "output_type": "display_data"
    }
   ],
   "source": [
    "matplotlib.pyplot.plot(min_inflammation)\n",
    "matplotlib.pyplot.show()"
   ]
  },
  {
   "cell_type": "code",
   "execution_count": 76,
   "metadata": {
    "collapsed": false
   },
   "outputs": [
    {
     "data": {
      "image/png": "[encoded data removed]",
      "text/plain": [
       "<matplotlib.figure.Figure at 0x7f22fbed47f0>"
      ]
     },
     "metadata": {},
     "output_type": "display_data"
    }
   ],
   "source": [
    "fig = matplotlib.pyplot.figure(figsize=(10, 3))\n",
    "\n",
    "axes1 = fig.add_subplot(1, 3, 1)\n",
    "axes2 = fig.add_subplot(1, 3, 2)\n",
    "axes3 = fig.add_subplot(1, 3, 3)\n",
    "\n",
    "axes1.set_ylabel('average')\n",
    "axes1.plot(avg_inflammation)\n",
    "\n",
    "axes2.set_ylabel('max')\n",
    "axes2.plot(max_inflammation)\n",
    "\n",
    "axes3.set_ylabel('min')\n",
    "axes3.plot(min_inflammation)\n",
    "\n",
    "fig.tight_layout()\n",
    "\n",
    "matplotlib.pyplot.show()"
   ]
  },
  {
   "cell_type": "code",
   "execution_count": 83,
   "metadata": {
    "collapsed": false
   },
   "outputs": [
    {
     "data": {
      "image/png": "[encoded data removed]",
      "text/plain": [
       "<matplotlib.figure.Figure at 0x7f22fc437be0>"
      ]
     },
     "metadata": {},
     "output_type": "display_data"
    }
   ],
   "source": [
    "import numpy\n",
    "# load in inflammation 2\n",
    "data = numpy.loadtxt('data/inflammation-02.csv', delimiter=',')\n",
    "\n",
    "# calculate the avg, max, min across each column of data\n",
    "avg_inflammation = numpy.mean(data, axis=0)\n",
    "max_inflammation = numpy.max(data, axis=0)\n",
    "min_inflammation = numpy.min(data, axis=0)\n",
    "\n",
    "# plot the results in a single figure\n",
    "fig = matplotlib.pyplot.figure(figsize=(10, 3))\n",
    "\n",
    "axes1 = fig.add_subplot(1, 3, 1)\n",
    "axes2 = fig.add_subplot(1, 3, 2)\n",
    "axes3 = fig.add_subplot(1, 3, 3)\n",
    "\n",
    "axes1.set_ylabel('average')\n",
    "axes1.plot(avg_inflammation)\n",
    "\n",
    "axes2.set_ylabel('max')\n",
    "axes2.plot(max_inflammation)\n",
    "\n",
    "axes3.set_ylabel('min')\n",
    "axes3.plot(min_inflammation)\n",
    "\n",
    "fig.tight_layout()\n",
    "\n",
    "matplotlib.pyplot.show()"
   ]
  },
  {
   "cell_type": "code",
   "execution_count": 84,
   "metadata": {
    "collapsed": false
   },
   "outputs": [
    {
     "data": {
      "text/plain": [
       "'/home/dchen/swc-python'"
      ]
     },
     "execution_count": 84,
     "metadata": {},
     "output_type": "execute_result"
    }
   ],
   "source": [
    "pwd"
   ]
  },
  {
   "cell_type": "code",
   "execution_count": null,
   "metadata": {
    "collapsed": true
   },
   "outputs": [],
   "source": []
  }
 ],
 "metadata": {
  "kernelspec": {
   "display_name": "Python 3",
   "language": "python",
   "name": "python3"
  },
  "language_info": {
   "codemirror_mode": {
    "name": "ipython",
    "version": 3
   },
   "file_extension": ".py",
   "mimetype": "text/x-python",
   "name": "python",
   "nbconvert_exporter": "python",
   "pygments_lexer": "ipython3",
   "version": "3.6.0"
  }
 },
 "nbformat": 4,
 "nbformat_minor": 2
}
